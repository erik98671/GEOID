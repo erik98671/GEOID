{
 "cells": [
  {
   "cell_type": "code",
   "execution_count": 1,
   "id": "81c22871-4b6a-4bf3-bc83-ccaac79b9bf3",
   "metadata": {},
   "outputs": [],
   "source": [
    "import requests\n",
    "import json"
   ]
  },
  {
   "cell_type": "code",
   "execution_count": 130,
   "id": "1f0158a1-35ef-48b0-94ee-779bb3587a73",
   "metadata": {},
   "outputs": [],
   "source": [
    "def get_geoid(street, city, state):\n",
    "    request = \"https://geocoding.geo.census.gov/geocoder/geographies/address?street=\"+street+\"&city=\"+city+\"&state=\"+state+\"&benchmark=Public_AR_Census2020&vintage=Census2020_Census2020&layers=10&format=json\"\n",
    "    r = requests.get(request)\n",
    "    j = r.json()\n",
    "    j_dict = dict(j)\n",
    "    geoid_long =  j_dict[\"result\"][\"addressMatches\"][0][\"geographies\"][\"Census Blocks\"][0][\"GEOID\"]\n",
    "    geoid = geoid_long[0:12]\n",
    "    return geoid"
   ]
  },
  {
   "cell_type": "code",
   "execution_count": 131,
   "id": "5b41b3b2-e56b-4b47-9673-2e7d9f11a204",
   "metadata": {},
   "outputs": [
    {
     "data": {
      "text/plain": [
       "'530330073021'"
      ]
     },
     "execution_count": 131,
     "metadata": {},
     "output_type": "execute_result"
    }
   ],
   "source": [
    "geoid = get_geoid(\"600 Stewart St\",\"Seattle\",\"WA\")\n",
    "print(geoid)"
   ]
  },
  {
   "cell_type": "code",
   "execution_count": null,
   "id": "6e5072ea-58d9-410e-896a-7795bbaf3a49",
   "metadata": {},
   "outputs": [],
   "source": []
  }
 ],
 "metadata": {
  "kernelspec": {
   "display_name": "Python 3 (ipykernel)",
   "language": "python",
   "name": "python3"
  },
  "language_info": {
   "codemirror_mode": {
    "name": "ipython",
    "version": 3
   },
   "file_extension": ".py",
   "mimetype": "text/x-python",
   "name": "python",
   "nbconvert_exporter": "python",
   "pygments_lexer": "ipython3",
   "version": "3.8.0"
  }
 },
 "nbformat": 4,
 "nbformat_minor": 5
}
